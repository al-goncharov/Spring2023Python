{
 "cells": [
  {
   "cell_type": "code",
   "execution_count": 1,
   "id": "a246c4f2",
   "metadata": {},
   "outputs": [
    {
     "name": "stdout",
     "output_type": "stream",
     "text": [
      "1 2 3 4 5 6 7\n",
      "1 3 5 7\n"
     ]
    }
   ],
   "source": [
    "print(' '.join(input().split()[::2]))\n"
   ]
  },
  {
   "cell_type": "code",
   "execution_count": 1,
   "id": "46a7d3b3",
   "metadata": {},
   "outputs": [
    {
     "name": "stdout",
     "output_type": "stream",
     "text": [
      "1 2 3 4 5 9 6 7 8\n",
      "9 5\n"
     ]
    }
   ],
   "source": [
    "num = list(map(int, input().split()))\n",
    "print(max(num), num.index(max(num)))\n"
   ]
  },
  {
   "cell_type": "code",
   "execution_count": 2,
   "id": "5c0cac21",
   "metadata": {},
   "outputs": [
    {
     "name": "stdout",
     "output_type": "stream",
     "text": [
      "1 2 3 4 5 6 7\n",
      "7 6 5 4 3 2 1\n"
     ]
    }
   ],
   "source": [
    "print(' '.join(input().split()[::-1]))"
   ]
  },
  {
   "cell_type": "code",
   "execution_count": 3,
   "id": "16b4fd5b",
   "metadata": {},
   "outputs": [
    {
     "name": "stdout",
     "output_type": "stream",
     "text": [
      "1 2 3 4 5 6 7\n",
      "2 1 4 3 6 5 7\n"
     ]
    }
   ],
   "source": [
    "num = input().split()\n",
    "num[ :len(num) - len(num) % 2: 2], num[1::2] = num[1::2], num[ :len(num) - len(num) % 2: 2]\n",
    "print(' '.join(num))"
   ]
  },
  {
   "cell_type": "code",
   "execution_count": 4,
   "id": "4939d2f9",
   "metadata": {},
   "outputs": [
    {
     "name": "stdout",
     "output_type": "stream",
     "text": [
      "1 2 3 4 5 6 7\n",
      "7 1 2 3 4 5 6\n"
     ]
    }
   ],
   "source": [
    "num = input().split()\n",
    "print(' '.join([num[-1]] + num[:-1]))"
   ]
  },
  {
   "cell_type": "code",
   "execution_count": 5,
   "id": "bf9e9345",
   "metadata": {},
   "outputs": [
    {
     "name": "stdout",
     "output_type": "stream",
     "text": [
      "1 2 3 4 5 6 7 8 9\n",
      "3\n",
      "1 2 3 5 6 7 8 9\n"
     ]
    }
   ],
   "source": [
    "num = input().split()\n",
    "num.pop(int(input()))\n",
    "print(' '.join(num))"
   ]
  },
  {
   "cell_type": "code",
   "execution_count": 6,
   "id": "90609b43",
   "metadata": {},
   "outputs": [
    {
     "name": "stdout",
     "output_type": "stream",
     "text": [
      "1 2 3 4 5 6 7 8 9\n",
      "2 0\n",
      "1 2 0 3 4 5 6 7 8 9\n"
     ]
    }
   ],
   "source": [
    "num = input().split()\n",
    "n, elem = map(int, input().split())\n",
    "print(' '.join(num[:n] + [str(elem)] + num[n:]))"
   ]
  },
  {
   "cell_type": "code",
   "execution_count": 7,
   "id": "20834992",
   "metadata": {},
   "outputs": [
    {
     "name": "stdout",
     "output_type": "stream",
     "text": [
      "1 2 3 4 5 6 7 8 9\n",
      "3\n",
      "7 8 9 1 2 3 4 5 6\n"
     ]
    }
   ],
   "source": [
    "num, i = input().split(), int(input())\n",
    "print(' '.join(num[-i:]) + ' ' + ' '.join(num[:-i]))"
   ]
  },
  {
   "cell_type": "code",
   "execution_count": null,
   "id": "fd0cb2af",
   "metadata": {},
   "outputs": [],
   "source": []
  }
 ],
 "metadata": {
  "kernelspec": {
   "display_name": "Python 3 (ipykernel)",
   "language": "python",
   "name": "python3"
  },
  "language_info": {
   "codemirror_mode": {
    "name": "ipython",
    "version": 3
   },
   "file_extension": ".py",
   "mimetype": "text/x-python",
   "name": "python",
   "nbconvert_exporter": "python",
   "pygments_lexer": "ipython3",
   "version": "3.9.13"
  }
 },
 "nbformat": 4,
 "nbformat_minor": 5
}
