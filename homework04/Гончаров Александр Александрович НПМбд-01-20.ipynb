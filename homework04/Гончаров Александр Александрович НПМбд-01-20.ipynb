{
 "cells": [
  {
   "cell_type": "markdown",
   "metadata": {},
   "source": [
    "## 4-е домашнее задание - Библиотека numpy\n",
    "\n",
    "Подпишите этот блокнот: укажите ФИО и номер группы. Выполненное задание загрузите в свой репозиторий «<b>Spring2023Python</b>» в github в папку \"<b>homework04</b>\".  \n",
    "\n",
    "Перед выполнением этого домашнего задания полезно прочитать про возможности и основные методы библиотеки numpy:  \n",
    "http://acm.mipt.ru/twiki/bin/view/Cintro/PythonNumpy  \n"
   ]
  },
  {
   "cell_type": "markdown",
   "metadata": {},
   "source": [
    "1.\tСоздайте равномерное разбиение интервала от -1.3 до 2.5 на 64 отрезка."
   ]
  },
  {
   "cell_type": "code",
   "execution_count": 1,
   "metadata": {},
   "outputs": [
    {
     "data": {
      "text/plain": [
       "array([-1.3     , -1.240625, -1.18125 , -1.121875, -1.0625  , -1.003125,\n",
       "       -0.94375 , -0.884375, -0.825   , -0.765625, -0.70625 , -0.646875,\n",
       "       -0.5875  , -0.528125, -0.46875 , -0.409375, -0.35    , -0.290625,\n",
       "       -0.23125 , -0.171875, -0.1125  , -0.053125,  0.00625 ,  0.065625,\n",
       "        0.125   ,  0.184375,  0.24375 ,  0.303125,  0.3625  ,  0.421875,\n",
       "        0.48125 ,  0.540625,  0.6     ,  0.659375,  0.71875 ,  0.778125,\n",
       "        0.8375  ,  0.896875,  0.95625 ,  1.015625,  1.075   ,  1.134375,\n",
       "        1.19375 ,  1.253125,  1.3125  ,  1.371875,  1.43125 ,  1.490625,\n",
       "        1.55    ,  1.609375,  1.66875 ,  1.728125,  1.7875  ,  1.846875,\n",
       "        1.90625 ,  1.965625,  2.025   ,  2.084375,  2.14375 ,  2.203125,\n",
       "        2.2625  ,  2.321875,  2.38125 ,  2.440625,  2.5     ])"
      ]
     },
     "execution_count": 1,
     "metadata": {},
     "output_type": "execute_result"
    }
   ],
   "source": [
    "import numpy as np\n",
    "np.linspace(-1.3, 2.5, 65)"
   ]
  },
  {
   "cell_type": "markdown",
   "metadata": {},
   "source": [
    "2.\tСгенерируйте numpy массив длины $3n$, заполненный циклически числами 1, 2, 3, 1, 2, 3, 1...."
   ]
  },
  {
   "cell_type": "code",
   "execution_count": 2,
   "metadata": {},
   "outputs": [
    {
     "name": "stdout",
     "output_type": "stream",
     "text": [
      "[1 2 3 1 2 3 1 2 3 1 2 3 1 2 3 1 2 3 1 2 3 1 2 3 1 2 3 1 2 3]\n"
     ]
    }
   ],
   "source": [
    "n = 10\n",
    "a = np.array([1, 2, 3] * n)\n",
    "print(a)"
   ]
  },
  {
   "cell_type": "markdown",
   "metadata": {},
   "source": [
    "3.\tСоздайте массив первых 10 нечетных целых чисел."
   ]
  },
  {
   "cell_type": "code",
   "execution_count": 3,
   "metadata": {},
   "outputs": [
    {
     "name": "stdout",
     "output_type": "stream",
     "text": [
      "[ 1  3  5  7  9 11 13 15 17 19]\n"
     ]
    }
   ],
   "source": [
    "a = np.linspace(1, 19, 10, dtype = np.int32)\n",
    "print(a)"
   ]
  },
  {
   "cell_type": "markdown",
   "metadata": {},
   "source": [
    "4.  Создайте массив нулей размера 10 x 10, а затем создайте в нём \"рамку\" из единиц по краям."
   ]
  },
  {
   "cell_type": "code",
   "execution_count": 4,
   "metadata": {},
   "outputs": [
    {
     "name": "stdout",
     "output_type": "stream",
     "text": [
      "[[1 1 1 1 1 1 1 1 1 1]\n",
      " [1 0 0 0 0 0 0 0 0 1]\n",
      " [1 0 0 0 0 0 0 0 0 1]\n",
      " [1 0 0 0 0 0 0 0 0 1]\n",
      " [1 0 0 0 0 0 0 0 0 1]\n",
      " [1 0 0 0 0 0 0 0 0 1]\n",
      " [1 0 0 0 0 0 0 0 0 1]\n",
      " [1 0 0 0 0 0 0 0 0 1]\n",
      " [1 0 0 0 0 0 0 0 0 1]\n",
      " [1 1 1 1 1 1 1 1 1 1]]\n"
     ]
    }
   ],
   "source": [
    "a = np.zeros((10,10), dtype = np.int32)\n",
    "a[::9] = 1\n",
    "a[::,::9] = 1\n",
    "print(a)"
   ]
  },
  {
   "cell_type": "markdown",
   "metadata": {},
   "source": [
    "5.  Создайте массив 8 x 8 с шахматной доской из нулей и единиц."
   ]
  },
  {
   "cell_type": "code",
   "execution_count": 5,
   "metadata": {},
   "outputs": [
    {
     "name": "stdout",
     "output_type": "stream",
     "text": [
      "[[0 1 0 1 0 1 0 1]\n",
      " [1 0 1 0 1 0 1 0]\n",
      " [0 1 0 1 0 1 0 1]\n",
      " [1 0 1 0 1 0 1 0]\n",
      " [0 1 0 1 0 1 0 1]\n",
      " [1 0 1 0 1 0 1 0]\n",
      " [0 1 0 1 0 1 0 1]\n",
      " [1 0 1 0 1 0 1 0]]\n"
     ]
    }
   ],
   "source": [
    "a = np.zeros((8,8), dtype = np.int32)\n",
    "a[1::2,::2] = 1\n",
    "a[::2,1::2] = 1\n",
    "print(a)"
   ]
  },
  {
   "cell_type": "markdown",
   "metadata": {},
   "source": [
    "6.  Создайте функцию, которая создает $n×n$ матрицу с $(i,j)$-элементом, равным $i+j$."
   ]
  },
  {
   "cell_type": "code",
   "execution_count": 6,
   "metadata": {},
   "outputs": [
    {
     "name": "stdout",
     "output_type": "stream",
     "text": [
      "[[0 1 2 3 4]\n",
      " [1 2 3 4 5]\n",
      " [2 3 4 5 6]\n",
      " [3 4 5 6 7]\n",
      " [4 5 6 7 8]]\n"
     ]
    }
   ],
   "source": [
    "n = 5\n",
    "\n",
    "def matrix_create(n):\n",
    "    z = np.indices((n,n))\n",
    "    z.shape\n",
    "    return z[0] + z[1]\n",
    "\n",
    "print(matrix_create(n))"
   ]
  },
  {
   "cell_type": "markdown",
   "metadata": {},
   "source": [
    "7. Примените функцию dot для перемножения вектор на вектор, матрицу на вектор и матрицу на матрицу."
   ]
  },
  {
   "cell_type": "code",
   "execution_count": 7,
   "metadata": {},
   "outputs": [
    {
     "name": "stdout",
     "output_type": "stream",
     "text": [
      "vector: [12 93 51 99 91 36 41 36 53 58] \n",
      "matrix:\n",
      " [[ 6 35 34 82 77 71 88 13  6 12]\n",
      " [ 7 49 37 70 36 48 90 52  3  6]\n",
      " [89  8  9 20 11 67 62 47 43 64]\n",
      " [45 56 76 16 80 91 95 11 93 42]\n",
      " [88 77 31 60 76 24 70 61 45 45]\n",
      " [43 99 63 35 81 93 13  5 73 62]\n",
      " [81 73 75 31 97  1 82 54 56 14]\n",
      " [75 38 56 79 96  8 45 68 66 58]\n",
      " [23 51  3 29 47  1 23 36 83 18]\n",
      " [44 12 95  4 31 57 28 58 76 77]] \n",
      "\n",
      "matrix * matrix:\n",
      " [[25595 27115 23383 16016 30697 21179 28164 15998 25073 16787]\n",
      " [23583 23157 22085 16713 28983 17877 27071 16436 22591 15074]\n",
      " [18492 21452 22976 18501 29634 19750 22631 15026 23198 16477]\n",
      " [31606 33592 25725 24050 36992 25484 33615 24242 32394 22530]\n",
      " [27506 28952 27624 28060 38565 24705 38708 24179 27945 19723]\n",
      " [25095 29870 24086 23554 31151 29464 31510 21725 28782 22583]\n",
      " [30242 27378 22228 28091 35827 20890 38930 25565 25119 18305]\n",
      " [30862 27474 26835 26147 37816 25099 37713 25142 32117 23074]\n",
      " [13510 16166 12120 14871 19759  9562 18777 14005 17226  9459]\n",
      " [25916 20190 20542 18229 26401 21431 22943 20539 27869 22830]] \n",
      "\n",
      " vector * vector: 39922 \n",
      "\n",
      " vector * matrix: [29065 29260 27681 22702 34307 26962 36656 24143 31953 22533]\n"
     ]
    }
   ],
   "source": [
    "n = 10\n",
    "vector = np.random.randint(1, 101, n)\n",
    "matrix = np.random.randint(1, 101, (n, n))\n",
    "print(f'vector: {vector} \\nmatrix:\\n {matrix} \\n')\n",
    "\n",
    "print(f'matrix * matrix:\\n {np.dot(matrix, matrix)} \\n\\n vector * vector: {np.dot(vector, vector)} \\\n",
    "\\n\\n vector * matrix: {np.dot(vector, matrix)}')"
   ]
  },
  {
   "cell_type": "markdown",
   "metadata": {},
   "source": [
    "8. Вычислите cos(x) и sin(x) на интервале [0,1] с шагом $0.05$, а затем объедините оба массива чисел как строки в один массив."
   ]
  },
  {
   "cell_type": "code",
   "execution_count": 8,
   "metadata": {},
   "outputs": [
    {
     "name": "stdout",
     "output_type": "stream",
     "text": [
      "matrix:\n",
      " [[0.         0.04997917 0.09983342 0.14943813 0.19866933 0.24740396\n",
      "  0.29552021 0.34289781 0.38941834 0.43496553 0.47942554 0.52268723\n",
      "  0.56464247 0.60518641 0.64421769 0.68163876 0.71735609 0.75128041\n",
      "  0.78332691 0.8134155 ]\n",
      " [1.         0.99875026 0.99500417 0.98877108 0.98006658 0.96891242\n",
      "  0.95533649 0.93937271 0.92106099 0.9004471  0.87758256 0.85252452\n",
      "  0.82533561 0.7960838  0.76484219 0.73168887 0.69670671 0.65998315\n",
      "  0.62160997 0.58168309]]\n"
     ]
    }
   ],
   "source": [
    "t = np.arange(0, 1, 0.05)\n",
    "print(f'matrix:\\n {np.vstack([np.sin(t), np.cos(t)])}')"
   ]
  },
  {
   "cell_type": "markdown",
   "metadata": {},
   "source": [
    "9. Создайте матрицу $A$ размера $3×5$ из случайных чисел с равномерным распределением на отрезке $[-1,3]$ (используйте np.random.rand)"
   ]
  },
  {
   "cell_type": "code",
   "execution_count": 9,
   "metadata": {},
   "outputs": [
    {
     "name": "stdout",
     "output_type": "stream",
     "text": [
      "[[ 2.91683296  0.76726122  2.26296267  1.27517252  1.08094564]\n",
      " [ 2.07344769  0.98651378  2.89859164  0.33637309 -0.45209818]\n",
      " [ 2.58021342  0.77762848  0.72742128 -0.51698463  0.45696697]]\n"
     ]
    }
   ],
   "source": [
    "a = np.random.uniform(-1, 3, (3, 5))\n",
    "print(a)"
   ]
  },
  {
   "cell_type": "raw",
   "metadata": {},
   "source": [
    "10. Найдите сумму всех элементов, сумму внутри строк, сумму внутри столбцов, а также среднее значение, дисперсию и стандартное отклонение чисел для каждой строки матрицы $A$. (Подобно тому, как sorted имеет необязательный аргумент key=, многие функции Numpy имеют необязательный аргумент axis=)"
   ]
  },
  {
   "cell_type": "code",
   "execution_count": 10,
   "metadata": {},
   "outputs": [
    {
     "name": "stdout",
     "output_type": "stream",
     "text": [
      "matrix:\n",
      " [[ 2.91683296  0.76726122  2.26296267  1.27517252  1.08094564]\n",
      " [ 2.07344769  0.98651378  2.89859164  0.33637309 -0.45209818]\n",
      " [ 2.58021342  0.77762848  0.72742128 -0.51698463  0.45696697]] \n",
      "\n",
      "columns sum: [7.57049408 2.53140348 5.88897559 1.09456097 1.08581442] \n",
      "lines sum: [8.303175   5.84282801 4.02524553] \n",
      "matrixs sum: 18.171248542850236 \n",
      "dispersion: [0.64471395 1.43280801 1.00538414] \n",
      "average value: [1.660635   1.1685656  0.80504911] \n",
      "standard deviation: [0.80294081 1.19699959 1.00268846]\n"
     ]
    }
   ],
   "source": [
    "print(f'matrix:\\n {a} \\n')\n",
    "\n",
    "print(f'columns sum: {np.sum(a, axis = 0)} \\nlines sum: {np.sum(a, axis = 1)} \\nmatrixs sum: {np.sum(a)} \\\n",
    "\\ndispersion: {np.var(a, axis = 1)} \\naverage value: {np.mean(a, axis = 1)} \\nstandard deviation: {np.std(a, axis = 1)}')"
   ]
  },
  {
   "cell_type": "markdown",
   "metadata": {},
   "source": [
    "11.  Отнимите от каждого элемента матрицы $A$ среднее по строке и поделите на стандартное отклонение строки."
   ]
  },
  {
   "cell_type": "code",
   "execution_count": 21,
   "metadata": {},
   "outputs": [
    {
     "name": "stdout",
     "output_type": "stream",
     "text": [
      "original matrix:\n",
      " [[ 2.91683296  0.76726122  2.26296267  1.27517252  1.08094564]\n",
      " [ 2.07344769  0.98651378  2.89859164  0.33637309 -0.45209818]\n",
      " [ 2.58021342  0.77762848  0.72742128 -0.51698463  0.45696697]] \n",
      "\n",
      "result:\n",
      " [[ 1.56449634 -1.11262719  0.75015202 -0.48006338 -0.72195778]\n",
      " [ 0.75595857 -0.15209013  1.44530212 -0.69523208 -1.35393847]\n",
      " [ 1.77040466 -0.0273471  -0.07741968 -1.31848904 -0.34714884]]\n"
     ]
    }
   ],
   "source": [
    "print(f'original matrix:\\n {a} \\n\\nresult:\\n {(a - np.repeat(np.mean(a, axis = 1), 5).reshape(3,5)) / np.repeat(np.std(a, axis = 1), 5).reshape(3,5)}')"
   ]
  },
  {
   "cell_type": "markdown",
   "metadata": {},
   "source": [
    "12. Отсортируйте матрицу $A$ по 3-ому столбцу, т.е. поменяйте местами строки матрицы так, чтобы 3-й столбец оказался отсортированным. Используйте для этого slicing + argsort + indexing."
   ]
  },
  {
   "cell_type": "code",
   "execution_count": 12,
   "metadata": {},
   "outputs": [
    {
     "name": "stdout",
     "output_type": "stream",
     "text": [
      "original matrix:\n",
      " [[ 2.91683296  0.76726122  2.26296267  1.27517252  1.08094564]\n",
      " [ 2.07344769  0.98651378  2.89859164  0.33637309 -0.45209818]\n",
      " [ 2.58021342  0.77762848  0.72742128 -0.51698463  0.45696697]] \n",
      "\n",
      "matrix was sorted by 3rd column:\n",
      " [[ 2.58021342  0.77762848  0.72742128 -0.51698463  0.45696697]\n",
      " [ 2.91683296  0.76726122  2.26296267  1.27517252  1.08094564]\n",
      " [ 2.07344769  0.98651378  2.89859164  0.33637309 -0.45209818]]\n"
     ]
    }
   ],
   "source": [
    "print(f'original matrix:\\n {a} \\n\\nmatrix was sorted by 3rd column:\\n {a[a[:, 2].argsort()]}')\n"
   ]
  },
  {
   "cell_type": "markdown",
   "metadata": {},
   "source": [
    "13. Посчитайте две матрицы: $B = A^TA$ и $C = AA^T$. Что вы можете о них сказать? Какого они размера? В чём их сходство и отличие?"
   ]
  },
  {
   "cell_type": "code",
   "execution_count": 22,
   "metadata": {},
   "outputs": [
    {
     "name": "stdout",
     "output_type": "stream",
     "text": [
      "matrix b:\n",
      " [[19.46460118  6.28990498 14.48766442  3.08298654  3.39460822]\n",
      " [ 6.28990498  2.16660527  5.16144759  0.90820513  0.73871711]\n",
      " [14.48766442  5.16144759 14.05197526  3.4846104   1.4680991 ]\n",
      " [ 3.08298654  0.90820513  3.4846104   2.00648492  0.99007361]\n",
      " [ 3.39460822  0.73871711  1.4680991   0.99007361  1.58165504]] \n",
      "\n",
      "matrix c:\n",
      " [[17.01211277 13.30445917  9.6035348 ]\n",
      " [13.30445917 13.99176788  7.84508239]\n",
      " [ 9.6035348   7.84508239  8.26744102]]\n"
     ]
    },
    {
     "data": {
      "text/plain": [
       "'\\nМатрицы B и C\\n'"
      ]
     },
     "execution_count": 22,
     "metadata": {},
     "output_type": "execute_result"
    }
   ],
   "source": [
    "b = np.dot(a.T, a)\n",
    "c = np.dot(a, a.T)\n",
    "print(f'matrix b:\\n {b} \\n\\nmatrix c:\\n {c}')\n",
    "'''\n",
    "Матрицы B и C\n",
    "'''"
   ]
  },
  {
   "cell_type": "markdown",
   "metadata": {},
   "source": [
    "14. Найдите сумму диагональных элементов матриц $B$ и $C$."
   ]
  },
  {
   "cell_type": "code",
   "execution_count": 103,
   "metadata": {},
   "outputs": [
    {
     "name": "stdout",
     "output_type": "stream",
     "text": [
      "b diagonal sum: 104 \n",
      "c diagonal sum: 104\n"
     ]
    }
   ],
   "source": [
    "print(f'b diagonal sum: {np.trace(b)} \\nc diagonal sum: {np.trace(c)}')"
   ]
  },
  {
   "cell_type": "markdown",
   "metadata": {},
   "source": [
    "15.\tПосчитайте детерминант и ранг матриц $A$, $B$ и $C$, посмотрите на спектр (набор собственных значений) матриц $B$ и $C$, какие выводы вы можете сделать?  \n",
    "(подсказка: используйте готовые функции из библиотеки np.linalg). \n"
   ]
  },
  {
   "cell_type": "code",
   "execution_count": 23,
   "metadata": {},
   "outputs": [
    {
     "ename": "LinAlgError",
     "evalue": "Last 2 dimensions of the array must be square",
     "output_type": "error",
     "traceback": [
      "\u001b[1;31m---------------------------------------------------------------------------\u001b[0m",
      "\u001b[1;31mLinAlgError\u001b[0m                               Traceback (most recent call last)",
      "\u001b[1;32m~\\AppData\\Local\\Temp\\ipykernel_16876\\4150650646.py\u001b[0m in \u001b[0;36m<module>\u001b[1;34m\u001b[0m\n\u001b[1;32m----> 1\u001b[1;33m print(f'determinant of a: {np.linalg.det(a)} \\nrank of a: {np.linalg.matrix_rank(a)} \\ndeterminant of b: {np.linalg.det(b)} \\\n\u001b[0m\u001b[0;32m      2\u001b[0m \u001b[0;31m\\\u001b[0m\u001b[0mnrank\u001b[0m \u001b[0mof\u001b[0m \u001b[0mb\u001b[0m\u001b[1;33m:\u001b[0m \u001b[1;33m{\u001b[0m\u001b[0mnp\u001b[0m\u001b[1;33m.\u001b[0m\u001b[0mlinalg\u001b[0m\u001b[1;33m.\u001b[0m\u001b[0mmatrix_rank\u001b[0m\u001b[1;33m(\u001b[0m\u001b[0mb\u001b[0m\u001b[1;33m)\u001b[0m\u001b[1;33m}\u001b[0m\u001b[0;31m \u001b[0m\u001b[0;31m\\\u001b[0m\u001b[0mn\u001b[0m\u001b[0;31m\\\u001b[0m\u001b[0mneigenvalues\u001b[0m \u001b[0mof\u001b[0m \u001b[0mb\u001b[0m\u001b[1;33m:\u001b[0m\u001b[0;31m\\\u001b[0m\u001b[0mn\u001b[0m \u001b[1;33m{\u001b[0m\u001b[0mnp\u001b[0m\u001b[1;33m.\u001b[0m\u001b[0mlinalg\u001b[0m\u001b[1;33m.\u001b[0m\u001b[0meig\u001b[0m\u001b[1;33m(\u001b[0m\u001b[0mb\u001b[0m\u001b[1;33m)\u001b[0m\u001b[1;33m}\u001b[0m\u001b[0;31m \u001b[0m\u001b[0;31m\\\u001b[0m\u001b[0mn\u001b[0m\u001b[0;31m \u001b[0m\u001b[0;31m\\\u001b[0m\u001b[1;33m\u001b[0m\u001b[1;33m\u001b[0m\u001b[0m\n\u001b[0;32m      3\u001b[0m \\ndeterminant of c: {np.linalg.det(c)} \\nrank of c: {np.linalg.matrix_rank(c)} \\n\\neigenvalues of c:\\n {np.linalg.eig(c)}')\n",
      "\u001b[1;32m<__array_function__ internals>\u001b[0m in \u001b[0;36mdet\u001b[1;34m(*args, **kwargs)\u001b[0m\n",
      "\u001b[1;32m~\\anaconda3\\lib\\site-packages\\numpy\\linalg\\linalg.py\u001b[0m in \u001b[0;36mdet\u001b[1;34m(a)\u001b[0m\n\u001b[0;32m   2153\u001b[0m     \u001b[0ma\u001b[0m \u001b[1;33m=\u001b[0m \u001b[0masarray\u001b[0m\u001b[1;33m(\u001b[0m\u001b[0ma\u001b[0m\u001b[1;33m)\u001b[0m\u001b[1;33m\u001b[0m\u001b[1;33m\u001b[0m\u001b[0m\n\u001b[0;32m   2154\u001b[0m     \u001b[0m_assert_stacked_2d\u001b[0m\u001b[1;33m(\u001b[0m\u001b[0ma\u001b[0m\u001b[1;33m)\u001b[0m\u001b[1;33m\u001b[0m\u001b[1;33m\u001b[0m\u001b[0m\n\u001b[1;32m-> 2155\u001b[1;33m     \u001b[0m_assert_stacked_square\u001b[0m\u001b[1;33m(\u001b[0m\u001b[0ma\u001b[0m\u001b[1;33m)\u001b[0m\u001b[1;33m\u001b[0m\u001b[1;33m\u001b[0m\u001b[0m\n\u001b[0m\u001b[0;32m   2156\u001b[0m     \u001b[0mt\u001b[0m\u001b[1;33m,\u001b[0m \u001b[0mresult_t\u001b[0m \u001b[1;33m=\u001b[0m \u001b[0m_commonType\u001b[0m\u001b[1;33m(\u001b[0m\u001b[0ma\u001b[0m\u001b[1;33m)\u001b[0m\u001b[1;33m\u001b[0m\u001b[1;33m\u001b[0m\u001b[0m\n\u001b[0;32m   2157\u001b[0m     \u001b[0msignature\u001b[0m \u001b[1;33m=\u001b[0m \u001b[1;34m'D->D'\u001b[0m \u001b[1;32mif\u001b[0m \u001b[0misComplexType\u001b[0m\u001b[1;33m(\u001b[0m\u001b[0mt\u001b[0m\u001b[1;33m)\u001b[0m \u001b[1;32melse\u001b[0m \u001b[1;34m'd->d'\u001b[0m\u001b[1;33m\u001b[0m\u001b[1;33m\u001b[0m\u001b[0m\n",
      "\u001b[1;32m~\\anaconda3\\lib\\site-packages\\numpy\\linalg\\linalg.py\u001b[0m in \u001b[0;36m_assert_stacked_square\u001b[1;34m(*arrays)\u001b[0m\n\u001b[0;32m    201\u001b[0m         \u001b[0mm\u001b[0m\u001b[1;33m,\u001b[0m \u001b[0mn\u001b[0m \u001b[1;33m=\u001b[0m \u001b[0ma\u001b[0m\u001b[1;33m.\u001b[0m\u001b[0mshape\u001b[0m\u001b[1;33m[\u001b[0m\u001b[1;33m-\u001b[0m\u001b[1;36m2\u001b[0m\u001b[1;33m:\u001b[0m\u001b[1;33m]\u001b[0m\u001b[1;33m\u001b[0m\u001b[1;33m\u001b[0m\u001b[0m\n\u001b[0;32m    202\u001b[0m         \u001b[1;32mif\u001b[0m \u001b[0mm\u001b[0m \u001b[1;33m!=\u001b[0m \u001b[0mn\u001b[0m\u001b[1;33m:\u001b[0m\u001b[1;33m\u001b[0m\u001b[1;33m\u001b[0m\u001b[0m\n\u001b[1;32m--> 203\u001b[1;33m             \u001b[1;32mraise\u001b[0m \u001b[0mLinAlgError\u001b[0m\u001b[1;33m(\u001b[0m\u001b[1;34m'Last 2 dimensions of the array must be square'\u001b[0m\u001b[1;33m)\u001b[0m\u001b[1;33m\u001b[0m\u001b[1;33m\u001b[0m\u001b[0m\n\u001b[0m\u001b[0;32m    204\u001b[0m \u001b[1;33m\u001b[0m\u001b[0m\n\u001b[0;32m    205\u001b[0m \u001b[1;32mdef\u001b[0m \u001b[0m_assert_finite\u001b[0m\u001b[1;33m(\u001b[0m\u001b[1;33m*\u001b[0m\u001b[0marrays\u001b[0m\u001b[1;33m)\u001b[0m\u001b[1;33m:\u001b[0m\u001b[1;33m\u001b[0m\u001b[1;33m\u001b[0m\u001b[0m\n",
      "\u001b[1;31mLinAlgError\u001b[0m: Last 2 dimensions of the array must be square"
     ]
    }
   ],
   "source": [
    "print(f'determinant of a: {np.linalg.det(a)} \\nrank of a: {np.linalg.matrix_rank(a)} \\ndeterminant of b: {np.linalg.det(b)} \\\n",
    "\\nrank of b: {np.linalg.matrix_rank(b)} \\n\\neigenvalues of b:\\n {np.linalg.eig(b)} \\n \\\n",
    "\\ndeterminant of c: {np.linalg.det(c)} \\nrank of c: {np.linalg.matrix_rank(c)} \\n\\neigenvalues of c:\\n {np.linalg.eig(c)}')"
   ]
  },
  {
   "cell_type": "markdown",
   "metadata": {},
   "source": [
    "16. Численно посчитать определённый интеграл  3-мя методами:  \n",
    "a)\tПрямоугольников $\\int\\limits_a^b {f(x)dx \\approx \\Delta x\\sum\\limits_{k = 0}^N {f({x_k})} }$  \n",
    "b)\tТрапеций $\\int\\limits_a^b {f(x)dx \\approx \\frac{{\\Delta x}}{2}\\left( {f({x_0}) + 2\\sum\\limits_{k = 1}^{N - 1} {f({x_k})}  + f({x_N})} \\right)}$  \n",
    "c)\tПо правилу Симпсона  $\\int\\limits_a^b {f(x)dx \\approx \\frac{{\\Delta x}}{3}\\left( {f({x_0}) + 2\\sum\\limits_{k = 1}^{N/2 - 1} {f({x_{2k}})}  + 4\\sum\\limits_{k = 1}^{N/2} {f({x_{2k - 1}})}  + f({x_N})} \\right)}$  \n",
    "\n",
    "\n",
    "В реализации этих методов цикл for для суммирования использовать нельзя.  \n",
    "Нужно посчитать значение интеграла с некоторым шагом интегрирования (например начать с 0.1), потом уменьшить его в десять раз и ещё раз посчитать и так до тех пор пока отличие в ответах будет в 5-м знаке после запятой, т.е. чтобы ошибка была меньше 1e-5. Получить ответы для 3-х разных методов и сделать соответствующие выводы.  \n",
    "\n",
    "Далее необходимо сравнить полученные оценки с аналитическим решением (т.е. формульным, которое вы должны сами посчитать на листочке и вбить формулу-ответ).   \n",
    "\n",
    "В качестве интеграла взять два из следующих примеров:  \n",
    "- один с номером, сгенерированным случайным образом с помощью функции np.random.randint(9), в качестве seed для генератора случайных чисел взять номер своего студенческого билета. \n",
    "- второй номер - под номером 9, несобственный интерграл. Подумайте, как сделать подбор шага интегрирования адаптивным.\n",
    "\n",
    "<table width=\"80%\"\n",
    "       align=\"center\">\n",
    "    <tr>\n",
    "        <td> 0) $\\int\\limits_3^4 {\\frac{{{x^2} + 3}}{{x - 2}}dx}$ </td>\n",
    "        <td> 1) $\\int\\limits_{ - 2}^{ - 1} {\\frac{{x + 1}}{{{x^3} - {x^2}}}dx}$ </td>\n",
    "        <td> 2) $\\int\\limits_1^2 {\\frac{{{e^{1/{x^2}}}}}{{{x^3}}}dx}$ </td>\n",
    "        <td> 3) $\\int\\limits_1^e {\\frac{{\\cos (\\ln x)}}{x}dx}$ </td>\n",
    "        <td> 4) $\\int\\limits_1^e {\\frac{{dx}}{{x(1 + {{\\ln }^2}x)}}}$ </td>\n",
    "    </tr>                \n",
    "    <tr>\n",
    "        <td> 5) $\\int\\limits_0^{\\pi /2} {{{\\cos }^3}\\alpha \\;d\\alpha }$ </td>\n",
    "        <td> 6) $\\int\\limits_0^{1/3} {c{h^2}3x\\;dx}$ </td>\n",
    "        <td> 7) $\\int\\limits_2^3 {\\frac{{dy}}{{{y^2} - 2y - 8}}dy}$ </td>\n",
    "        <td> 8) $\\int\\limits_0^2 {\\frac{{2x - 1}}{{2x + 1}}dx}$ </td>\n",
    "        <td> 9) $\\int\\limits_{3/4}^2 {\\frac{{dx}}{{\\sqrt {2 + 3x - 2{x^2}} }}}$ </td>\n",
    "        </tr>\n",
    "</table>"
   ]
  },
  {
   "cell_type": "code",
   "execution_count": 12,
   "metadata": {},
   "outputs": [
    {
     "name": "stdout",
     "output_type": "stream",
     "text": [
      "8\n",
      "rectangels method: 0.39055408753389975 \n",
      "trapezoids method: 0.3905560875418998 \n",
      "simpsons: 0.3905500876032333 \n",
      "\n"
     ]
    }
   ],
   "source": [
    "np.random.seed(1032201725)\n",
    "print(np.random.randint(9))\n",
    "\n",
    "h = 0.00001\n",
    "x = np.arange(0, 2, h)\n",
    "n = len(x)\n",
    "\n",
    "f = (2 * x - 1) / (2 * x + 1)\n",
    "\n",
    "rectangel = h * np.sum(f)\n",
    "\n",
    "trapezoid = (h / 2) * (f[0] + 2 * np.sum(f[1:n - 1]) + f[n-1])\n",
    "\n",
    "simpsons = (h / 3) * (f[0] + 2 * np.sum(f[2:n - 2: 2]) + 4 * np.sum(f[1: n - 1: 2]) + f[n - 1])\n",
    "\n",
    "\n",
    "print(f'rectangels method: {rectangel} \\ntrapezoids method: {trapezoid} \\nsimpsons: {simpsons} \\n')\n"
   ]
  },
  {
   "cell_type": "code",
   "execution_count": null,
   "metadata": {},
   "outputs": [],
   "source": []
  }
 ],
 "metadata": {
  "kernelspec": {
   "display_name": "Python 3 (ipykernel)",
   "language": "python",
   "name": "python3"
  },
  "language_info": {
   "codemirror_mode": {
    "name": "ipython",
    "version": 3
   },
   "file_extension": ".py",
   "mimetype": "text/x-python",
   "name": "python",
   "nbconvert_exporter": "python",
   "pygments_lexer": "ipython3",
   "version": "3.9.13"
  }
 },
 "nbformat": 4,
 "nbformat_minor": 2
}
